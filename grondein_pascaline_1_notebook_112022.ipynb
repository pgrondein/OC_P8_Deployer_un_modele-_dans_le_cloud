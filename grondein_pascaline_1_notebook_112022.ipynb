{
 "cells": [
  {
   "cell_type": "markdown",
   "id": "68749b7c",
   "metadata": {},
   "source": [
    "# PROJET 8 - Déployez un modèle dans le cloud"
   ]
  },
  {
   "cell_type": "markdown",
   "id": "06452c08",
   "metadata": {},
   "source": [
    "## Importations"
   ]
  },
  {
   "cell_type": "code",
   "execution_count": 1,
   "id": "727fbd29",
   "metadata": {},
   "outputs": [],
   "source": [
    "import os\n",
    "fruits = ['Apricot', 'Clementine', 'Lychee']\n",
    "path = \"s3a://ocp8fruits//\""
   ]
  },
  {
   "cell_type": "markdown",
   "id": "2eb37eca",
   "metadata": {},
   "source": [
    "Java 8\n",
    "\n",
    "Spark 3.3.1\n",
    "\n",
    "Hadoop 3.3"
   ]
  },
  {
   "cell_type": "code",
   "execution_count": 2,
   "id": "4118ddaa",
   "metadata": {},
   "outputs": [
    {
     "data": {
      "text/plain": [
       "'C:\\\\Users\\\\pgron\\\\Jupyter\\\\P8\\\\Deployer_un_modele _dans_le_cloud'"
      ]
     },
     "execution_count": 2,
     "metadata": {},
     "output_type": "execute_result"
    }
   ],
   "source": [
    "os.getcwd()"
   ]
  },
  {
   "cell_type": "code",
   "execution_count": 3,
   "id": "8ea72487",
   "metadata": {},
   "outputs": [
    {
     "name": "stdout",
     "output_type": "stream",
     "text": [
      "C:\\Spark\\spark-3.3.1-bin-hadoop3\n",
      "E:\\Documents_pro\\anaconda3\\Library\n",
      "C:\\Hadoop\n"
     ]
    }
   ],
   "source": [
    "print(os.environ['SPARK_HOME'])\n",
    "print(os.environ['JAVA_HOME'])\n",
    "print(os.environ['HADOOP_HOME'])"
   ]
  },
  {
   "cell_type": "code",
   "execution_count": 4,
   "id": "fb6d5a7b",
   "metadata": {},
   "outputs": [],
   "source": [
    "import sys, time\n",
    "import pandas as pd\n",
    "import numpy as np\n",
    "import matplotlib.pyplot as plt\n",
    "import seaborn as sns\n",
    "from PIL import Image\n",
    "import csv\n",
    "import io\n",
    "import random\n",
    "\n",
    "import findspark\n",
    "findspark.init()\n",
    "findspark.find()\n",
    "\n",
    "import pyspark\n",
    "from pyspark import SparkContext, SparkConf\n",
    "from pyspark.sql import SparkSession\n",
    "from pyspark.sql import Window\n",
    "from pyspark.ml.image import ImageSchema\n",
    "from pyspark import SQLContext\n",
    "from pyspark.ml.classification import LogisticRegression\n",
    "from pyspark.sql.functions import udf\n",
    "from pyspark.sql.functions import lit\n",
    "from pyspark.sql.functions import monotonically_increasing_id, row_number\n",
    "from pyspark.sql.functions import input_file_name\n",
    "from pyspark.sql.functions import col, pandas_udf, PandasUDFType, lower, split\n",
    "from pyspark.sql.types import *\n",
    "from pyspark.ml.linalg import Vectors\n",
    "\n",
    "import keras\n",
    "import cv2\n",
    "import PIL\n",
    "from PIL import Image, ImageOps\n",
    "import skimage\n",
    "from skimage import io \n",
    "from skimage.io import imshow, imread\n",
    "from skimage.color import rgb2hsv, rgb2gray, rgb2yuv\n",
    "from skimage import color, exposure, transform\n",
    "from skimage.exposure import histogram, cumulative_distribution, equalize_hist\n",
    "from skimage import img_as_ubyte, img_as_uint\n",
    "from keras.layers import Dense, Activation, Flatten\n",
    "from PIL import ImageFilter\n",
    "from tensorflow.keras.utils import img_to_array\n",
    "from tensorflow.keras.utils import load_img\n",
    "from keras.applications.vgg16 import VGG16\n",
    "from keras.applications.vgg16 import preprocess_input\n",
    "from keras.applications.vgg16 import decode_predictions\n",
    "from keras.layers import Dense\n",
    "from keras import Model\n",
    "from keras.layers import Flatten\n",
    "import keras.optimizers\n",
    "\n",
    "import warnings\n",
    "warnings.simplefilter(action = 'ignore') "
   ]
  },
  {
   "cell_type": "markdown",
   "id": "be27885e",
   "metadata": {},
   "source": [
    "Sets the environnement variable 'PYSPARK_SUBMIT_ARGS' in order :\n",
    "\n",
    "   - to fetch the databricks sparkdl package, as soon as the pyspark-submit command will be run\n",
    "   - to make Hadoop AWS package available when spark will be loaded"
   ]
  },
  {
   "cell_type": "markdown",
   "id": "8052de87",
   "metadata": {},
   "source": [
    "## Functions"
   ]
  },
  {
   "cell_type": "code",
   "execution_count": 6,
   "id": "9a512b9f",
   "metadata": {},
   "outputs": [],
   "source": [
    "#Import AWS key\n",
    "def load_aws_key():\n",
    "    key = pd.read_csv('rootkey.csv', sep = ';').set_index('KEY')\n",
    "    ID = key.loc['AWSAccessKeyId'][0]\n",
    "    KEY = key.loc['AWSSecretKey'][0]\n",
    "    os.environ[\"AWS_ACCESS_KEY_ID\"] = ID\n",
    "    os.environ[\"AWS_SECRET_ACCESS_KEY\"] = KEY\n",
    "    \n",
    "    return ID, KEY\n",
    "\n",
    "\n",
    "access_ID, access_KEY = load_aws_key()"
   ]
  },
  {
   "cell_type": "code",
   "execution_count": 7,
   "id": "d8e1a714",
   "metadata": {},
   "outputs": [],
   "source": [
    "#Split path with '/'\n",
    "def parse_categorie(path):\n",
    "    if len(path) > 0:\n",
    "        return path.split('/')[-2]\n",
    "    else:\n",
    "        return ''"
   ]
  },
  {
   "cell_type": "code",
   "execution_count": 8,
   "id": "bc72c2fd",
   "metadata": {},
   "outputs": [],
   "source": [
    "# Create image df    \n",
    "def load_data(path):\n",
    "    start = time.time()\n",
    "    df_img = spark.read.format(\"Image\").load(path)\n",
    "    df_img = df_img.withColumn(\"Path\", input_file_name())\n",
    "    udf_categorie = udf(parse_categorie, StringType())\n",
    "    df_img = df_img.withColumn('Category', udf_categorie('Path'))\n",
    "#     print('Loading time : {} secondes'.format(time.strftime('%S', time.gmtime(time.time()-start))))\n",
    "    \n",
    "    return df_img"
   ]
  },
  {
   "cell_type": "markdown",
   "id": "23980109",
   "metadata": {},
   "source": [
    "## Create a Spark DataFrame containing the pictures"
   ]
  },
  {
   "cell_type": "code",
   "execution_count": 10,
   "id": "ab337c19",
   "metadata": {},
   "outputs": [
    {
     "data": {
      "text/html": [
       "\n",
       "            <div>\n",
       "                <p><b>SparkSession - in-memory</b></p>\n",
       "                \n",
       "        <div>\n",
       "            <p><b>SparkContext</b></p>\n",
       "\n",
       "            <p><a href=\"http://192.168.1.37:4040\">Spark UI</a></p>\n",
       "\n",
       "            <dl>\n",
       "              <dt>Version</dt>\n",
       "                <dd><code>v3.3.1</code></dd>\n",
       "              <dt>Master</dt>\n",
       "                <dd><code>local</code></dd>\n",
       "              <dt>AppName</dt>\n",
       "                <dd><code>P8_app</code></dd>\n",
       "            </dl>\n",
       "        </div>\n",
       "        \n",
       "            </div>\n",
       "        "
      ],
      "text/plain": [
       "<pyspark.sql.session.SparkSession at 0x1d843925a90>"
      ]
     },
     "execution_count": 10,
     "metadata": {},
     "output_type": "execute_result"
    }
   ],
   "source": [
    "conf = SparkConf()\n",
    "conf.set('spark.jars.packages', 'org.apache.hadoop:hadoop-aws:3.2.3')\n",
    "conf.set('spark.jars.packages', 'org.apache.hadoop:hadoop-common:3.2.3')\n",
    "conf.set('spark.jars.packages', 'org.apache.hadoop:hadoop-client:3.2.3')\n",
    "conf.setAppName('P8_app')\n",
    "conf.setMaster('local')\n",
    "\n",
    "spark = SparkSession.builder\\\n",
    "    .config(conf = conf)\\\n",
    "    .getOrCreate()\n",
    "spark"
   ]
  },
  {
   "cell_type": "code",
   "execution_count": 11,
   "id": "258ea723",
   "metadata": {},
   "outputs": [],
   "source": [
    "sc = spark.sparkContext\n",
    "\n",
    "hadoop_conf = sc._jsc.hadoopConfiguration()\n",
    "\n",
    "hadoop_conf.set(\"fs.s3a.path.style.access\", \"true\")\n",
    "hadoop_conf.set('fs.s3a.endpoint', 'S3.eu-west-1.amazonaws.com')\n",
    "hadoop_conf.set(\"fs.s3a.access.key\", access_ID)\n",
    "hadoop_conf.set(\"fs.s3a.secret.key\", access_KEY)\n",
    "hadoop_conf.set(\"fs.s3a.aws.credentials.provider\",\"com.amazonaws.auth.profile.ProfileCredentialsProvider\")\n",
    "hadoop_conf.set(\"fs.s3a.impl\", \"org.apache.hadoop.fs.s3a.S3AFileSystem\")\n",
    "hadoop_conf.set('com.amazonaws.services.s3a.enableV4', 'true')"
   ]
  },
  {
   "cell_type": "code",
   "execution_count": 12,
   "id": "8a2c49ca",
   "metadata": {
    "scrolled": false
   },
   "outputs": [
    {
     "name": "stdout",
     "output_type": "stream",
     "text": [
      "Loading time : 03 secondes\n",
      "Loading time : 00 secondes\n",
      "Loading time : 00 secondes\n",
      "+--------------------+--------------------+----------+\n",
      "|               image|                Path|  Category|\n",
      "+--------------------+--------------------+----------+\n",
      "|{s3a://ocp8fruits...|s3a://ocp8fruits/...|   Apricot|\n",
      "|{s3a://ocp8fruits...|s3a://ocp8fruits/...|   Apricot|\n",
      "|{s3a://ocp8fruits...|s3a://ocp8fruits/...|   Apricot|\n",
      "|{s3a://ocp8fruits...|s3a://ocp8fruits/...|   Apricot|\n",
      "|{s3a://ocp8fruits...|s3a://ocp8fruits/...|   Apricot|\n",
      "|{s3a://ocp8fruits...|s3a://ocp8fruits/...|   Apricot|\n",
      "|{s3a://ocp8fruits...|s3a://ocp8fruits/...|   Apricot|\n",
      "|{s3a://ocp8fruits...|s3a://ocp8fruits/...|   Apricot|\n",
      "|{s3a://ocp8fruits...|s3a://ocp8fruits/...|   Apricot|\n",
      "|{s3a://ocp8fruits...|s3a://ocp8fruits/...|   Apricot|\n",
      "|{s3a://ocp8fruits...|s3a://ocp8fruits/...|Clementine|\n",
      "|{s3a://ocp8fruits...|s3a://ocp8fruits/...|Clementine|\n",
      "|{s3a://ocp8fruits...|s3a://ocp8fruits/...|Clementine|\n",
      "|{s3a://ocp8fruits...|s3a://ocp8fruits/...|Clementine|\n",
      "|{s3a://ocp8fruits...|s3a://ocp8fruits/...|Clementine|\n",
      "|{s3a://ocp8fruits...|s3a://ocp8fruits/...|Clementine|\n",
      "|{s3a://ocp8fruits...|s3a://ocp8fruits/...|Clementine|\n",
      "|{s3a://ocp8fruits...|s3a://ocp8fruits/...|Clementine|\n",
      "|{s3a://ocp8fruits...|s3a://ocp8fruits/...|    Lychee|\n",
      "|{s3a://ocp8fruits...|s3a://ocp8fruits/...|    Lychee|\n",
      "+--------------------+--------------------+----------+\n",
      "only showing top 20 rows\n",
      "\n",
      "DF count 26 elements.\n"
     ]
    }
   ],
   "source": [
    "for fruit in fruits :\n",
    "    path_fruit = path + \"{}\".format(fruit)\n",
    "    fruit_df = load_data(path = path_fruit)\n",
    "    if fruit == fruits[0]:\n",
    "        image_df = fruit_df\n",
    "    else:\n",
    "        image_df = image_df.union(fruit_df)\n",
    "    \n",
    "    del fruit_df\n",
    "    \n",
    "image_df.show()\n",
    "nb = image_df.count()\n",
    "print('DF count {} elements.'.format(nb))"
   ]
  },
  {
   "cell_type": "code",
   "execution_count": 13,
   "id": "76c08c14",
   "metadata": {},
   "outputs": [
    {
     "data": {
      "image/png": "[encoded data removed]",
      "text/plain": [
       "<PIL.Image.Image image mode=RGB size=100x100>"
      ]
     },
     "execution_count": 13,
     "metadata": {},
     "output_type": "execute_result"
    }
   ],
   "source": [
    "# Show an image\n",
    "idx = random.randint(0,nb)\n",
    "a = image_df.collect()[idx]\n",
    "b = np.array(a.asDict()['image']['data']).reshape(100,100,3)[:,:,::-1]\n",
    "Image.fromarray(b, 'RGB')"
   ]
  },
  {
   "cell_type": "markdown",
   "id": "267050a5",
   "metadata": {},
   "source": [
    "## Features extraction"
   ]
  },
  {
   "cell_type": "markdown",
   "id": "dae6caa0",
   "metadata": {},
   "source": [
    "### VGG16 "
   ]
  },
  {
   "cell_type": "code",
   "execution_count": 5,
   "id": "ce3f0a4c",
   "metadata": {},
   "outputs": [
    {
     "name": "stdout",
     "output_type": "stream",
     "text": [
      "Model: \"model\"\n",
      "_________________________________________________________________\n",
      " Layer (type)                Output Shape              Param #   \n",
      "=================================================================\n",
      " input_1 (InputLayer)        [(None, 100, 100, 3)]     0         \n",
      "                                                                 \n",
      " block1_conv1 (Conv2D)       (None, 100, 100, 64)      1792      \n",
      "                                                                 \n",
      " block1_conv2 (Conv2D)       (None, 100, 100, 64)      36928     \n",
      "                                                                 \n",
      " block1_pool (MaxPooling2D)  (None, 50, 50, 64)        0         \n",
      "                                                                 \n",
      " block2_conv1 (Conv2D)       (None, 50, 50, 128)       73856     \n",
      "                                                                 \n",
      " block2_conv2 (Conv2D)       (None, 50, 50, 128)       147584    \n",
      "                                                                 \n",
      " block2_pool (MaxPooling2D)  (None, 25, 25, 128)       0         \n",
      "                                                                 \n",
      " block3_conv1 (Conv2D)       (None, 25, 25, 256)       295168    \n",
      "                                                                 \n",
      " block3_conv2 (Conv2D)       (None, 25, 25, 256)       590080    \n",
      "                                                                 \n",
      " block3_conv3 (Conv2D)       (None, 25, 25, 256)       590080    \n",
      "                                                                 \n",
      " block3_pool (MaxPooling2D)  (None, 12, 12, 256)       0         \n",
      "                                                                 \n",
      " block4_conv1 (Conv2D)       (None, 12, 12, 512)       1180160   \n",
      "                                                                 \n",
      " block4_conv2 (Conv2D)       (None, 12, 12, 512)       2359808   \n",
      "                                                                 \n",
      " block4_conv3 (Conv2D)       (None, 12, 12, 512)       2359808   \n",
      "                                                                 \n",
      " block4_pool (MaxPooling2D)  (None, 6, 6, 512)         0         \n",
      "                                                                 \n",
      " block5_conv1 (Conv2D)       (None, 6, 6, 512)         2359808   \n",
      "                                                                 \n",
      " block5_conv2 (Conv2D)       (None, 6, 6, 512)         2359808   \n",
      "                                                                 \n",
      " block5_conv3 (Conv2D)       (None, 6, 6, 512)         2359808   \n",
      "                                                                 \n",
      " block5_pool (MaxPooling2D)  (None, 3, 3, 512)         0         \n",
      "                                                                 \n",
      " flatten (Flatten)           (None, 4608)              0         \n",
      "                                                                 \n",
      " dense (Dense)               (None, 1000)              4609000   \n",
      "                                                                 \n",
      "=================================================================\n",
      "Total params: 19,323,688\n",
      "Trainable params: 19,323,688\n",
      "Non-trainable params: 0\n",
      "_________________________________________________________________\n"
     ]
    }
   ],
   "source": [
    "# load model without classifier layers\n",
    "model_extr = VGG16(include_top = False, input_shape = (100, 100, 3))\n",
    "# add new classifier layers\n",
    "flat1 = Flatten()(model_extr.layers[-1].output)\n",
    "output = Dense(1000, activation ='relu')(flat1)\n",
    "# define new model\n",
    "model_cnn = Model(inputs = model_extr.inputs, outputs = output)\n",
    "model_cnn.summary()"
   ]
  },
  {
   "cell_type": "code",
   "execution_count": 15,
   "id": "2eeef0dd",
   "metadata": {
    "scrolled": true
   },
   "outputs": [
    {
     "name": "stdout",
     "output_type": "stream",
     "text": [
      "1/1 [==============================] - 0s 241ms/step\n",
      "1/1 [==============================] - 0s 47ms/step\n",
      "1/1 [==============================] - 0s 48ms/step\n",
      "1/1 [==============================] - 0s 46ms/step\n",
      "1/1 [==============================] - 0s 47ms/step\n",
      "1/1 [==============================] - 0s 45ms/step\n",
      "1/1 [==============================] - 0s 46ms/step\n",
      "1/1 [==============================] - 0s 47ms/step\n",
      "1/1 [==============================] - 0s 49ms/step\n",
      "1/1 [==============================] - 0s 48ms/step\n",
      "1/1 [==============================] - 0s 47ms/step\n",
      "1/1 [==============================] - 0s 46ms/step\n",
      "1/1 [==============================] - 0s 46ms/step\n",
      "1/1 [==============================] - 0s 46ms/step\n",
      "1/1 [==============================] - 0s 49ms/step\n",
      "1/1 [==============================] - 0s 45ms/step\n",
      "1/1 [==============================] - 0s 45ms/step\n",
      "1/1 [==============================] - 0s 47ms/step\n",
      "1/1 [==============================] - 0s 45ms/step\n",
      "1/1 [==============================] - 0s 47ms/step\n",
      "1/1 [==============================] - 0s 49ms/step\n",
      "1/1 [==============================] - 0s 49ms/step\n",
      "1/1 [==============================] - 0s 45ms/step\n",
      "1/1 [==============================] - 0s 46ms/step\n",
      "1/1 [==============================] - 0s 53ms/step\n",
      "1/1 [==============================] - 0s 45ms/step\n",
      "temps de traitement VGG16 descriptor :           119.27 secondes\n"
     ]
    }
   ],
   "source": [
    "temps1 = time.time()\n",
    "VGG16_pred = []\n",
    "nb = image_df.count()\n",
    "\n",
    "for idx in range (0, nb):\n",
    "    a = image_df.collect()[idx]\n",
    "    b = np.array(a.asDict()['image']['data']).reshape(100,100,3)[:,:,::-1]\n",
    "    img =  b.reshape((1, b.shape[0], b.shape[1], b.shape[2]))\n",
    "    img_ready = preprocess_input(img)\n",
    "    pred = model_cnn.predict(img_ready)\n",
    "    VGG16_pred.append(pred)\n",
    "    del pred\n",
    "    \n",
    "feat_VGG16 = np.asarray(VGG16_pred)\n",
    "feat_VGG16.shape = (image_df.count(), 1000)\n",
    "\n",
    "duration1 = time.time() - temps1\n",
    "print(\"temps de traitement VGG16 descriptor : \", \"%15.2f\" % duration1, \"secondes\")"
   ]
  },
  {
   "cell_type": "code",
   "execution_count": 16,
   "id": "4bd6631d",
   "metadata": {},
   "outputs": [
    {
     "name": "stdout",
     "output_type": "stream",
     "text": [
      "+--------------------+----------+--------------------+\n",
      "|                Path|  Category|            Features|\n",
      "+--------------------+----------+--------------------+\n",
      "|s3a://ocp8fruits/...|   Apricot|[0.0,0.0,6.069554...|\n",
      "|s3a://ocp8fruits/...|   Apricot|[0.0,0.0,0.0,17.5...|\n",
      "|s3a://ocp8fruits/...|   Apricot|[0.0,0.0,0.0,20.0...|\n",
      "|s3a://ocp8fruits/...|   Apricot|[0.0,4.8060884475...|\n",
      "|s3a://ocp8fruits/...|   Apricot|[0.0,0.0,12.34049...|\n",
      "|s3a://ocp8fruits/...|   Apricot|[0.0,0.0,8.115951...|\n",
      "|s3a://ocp8fruits/...|   Apricot|[0.0,0.0,10.10343...|\n",
      "|s3a://ocp8fruits/...|   Apricot|[0.0,0.0,10.57868...|\n",
      "|s3a://ocp8fruits/...|   Apricot|[0.0,1.0488718748...|\n",
      "|s3a://ocp8fruits/...|   Apricot|[0.0,0.0,18.35713...|\n",
      "|s3a://ocp8fruits/...|Clementine|[0.0,0.0,0.0,0.0,...|\n",
      "|s3a://ocp8fruits/...|Clementine|[0.0,5.5707306861...|\n",
      "|s3a://ocp8fruits/...|Clementine|[0.0,4.7682480812...|\n",
      "|s3a://ocp8fruits/...|Clementine|[0.0,5.8232831954...|\n",
      "|s3a://ocp8fruits/...|Clementine|[0.0,8.3801469802...|\n",
      "|s3a://ocp8fruits/...|Clementine|[0.0,3.9402778148...|\n",
      "|s3a://ocp8fruits/...|Clementine|[0.0,5.3041801452...|\n",
      "|s3a://ocp8fruits/...|Clementine|[0.0,8.0109853744...|\n",
      "|s3a://ocp8fruits/...|    Lychee|[29.2633228302001...|\n",
      "|s3a://ocp8fruits/...|    Lychee|[23.0468444824218...|\n",
      "+--------------------+----------+--------------------+\n",
      "only showing top 20 rows\n",
      "\n"
     ]
    }
   ],
   "source": [
    "list_feat = feat_VGG16.tolist()\n",
    "data = [Vectors.dense(l) for l in list_feat]\n",
    "\n",
    "a = image_df.withColumn(\"row_idx\", row_number().over(Window.orderBy(monotonically_increasing_id())))\n",
    "b = spark.createDataFrame([(l,) for l in data], ['Features'])\n",
    "b = b.withColumn(\"row_idx\", row_number().over(Window.orderBy(monotonically_increasing_id())))\n",
    "\n",
    "image_feat = a.join(b, a.row_idx == b.row_idx).drop(\"row_idx\")\n",
    "image_feat = image_feat.drop('image')\n",
    "image_feat.show()"
   ]
  },
  {
   "cell_type": "markdown",
   "id": "c4ecf0cd",
   "metadata": {},
   "source": [
    "## PCA"
   ]
  },
  {
   "cell_type": "code",
   "execution_count": 18,
   "id": "2e1c185a",
   "metadata": {},
   "outputs": [],
   "source": [
    "from pyspark.ml.feature import VectorAssembler, StandardScaler, PCA"
   ]
  },
  {
   "cell_type": "code",
   "execution_count": 19,
   "id": "a62f81ce",
   "metadata": {},
   "outputs": [
    {
     "name": "stdout",
     "output_type": "stream",
     "text": [
      "+--------------------+----------+--------------------+--------------------+\n",
      "|                Path|  Category|            Features|      scaledFeatures|\n",
      "+--------------------+----------+--------------------+--------------------+\n",
      "|s3a://ocp8fruits/...|   Apricot|[0.0,0.0,6.069554...|[-0.6337590830754...|\n",
      "|s3a://ocp8fruits/...|   Apricot|[0.0,0.0,0.0,17.5...|[-0.6337590830754...|\n",
      "|s3a://ocp8fruits/...|   Apricot|[0.0,0.0,0.0,20.0...|[-0.6337590830754...|\n",
      "|s3a://ocp8fruits/...|   Apricot|[0.0,4.8060884475...|[-0.6337590830754...|\n",
      "|s3a://ocp8fruits/...|   Apricot|[0.0,0.0,12.34049...|[-0.6337590830754...|\n",
      "|s3a://ocp8fruits/...|   Apricot|[0.0,0.0,8.115951...|[-0.6337590830754...|\n",
      "|s3a://ocp8fruits/...|   Apricot|[0.0,0.0,10.10343...|[-0.6337590830754...|\n",
      "|s3a://ocp8fruits/...|   Apricot|[0.0,0.0,10.57868...|[-0.6337590830754...|\n",
      "|s3a://ocp8fruits/...|   Apricot|[0.0,1.0488718748...|[-0.6337590830754...|\n",
      "|s3a://ocp8fruits/...|   Apricot|[0.0,0.0,18.35713...|[-0.6337590830754...|\n",
      "|s3a://ocp8fruits/...|Clementine|[0.0,0.0,0.0,0.0,...|[-0.6337590830754...|\n",
      "|s3a://ocp8fruits/...|Clementine|[0.0,5.5707306861...|[-0.6337590830754...|\n",
      "|s3a://ocp8fruits/...|Clementine|[0.0,4.7682480812...|[-0.6337590830754...|\n",
      "|s3a://ocp8fruits/...|Clementine|[0.0,5.8232831954...|[-0.6337590830754...|\n",
      "|s3a://ocp8fruits/...|Clementine|[0.0,8.3801469802...|[-0.6337590830754...|\n",
      "|s3a://ocp8fruits/...|Clementine|[0.0,3.9402778148...|[-0.6337590830754...|\n",
      "|s3a://ocp8fruits/...|Clementine|[0.0,5.3041801452...|[-0.6337590830754...|\n",
      "|s3a://ocp8fruits/...|Clementine|[0.0,8.0109853744...|[-0.6337590830754...|\n",
      "|s3a://ocp8fruits/...|    Lychee|[29.2633228302001...|[2.22630862718177...|\n",
      "|s3a://ocp8fruits/...|    Lychee|[23.0468444824218...|[1.61873753564308...|\n",
      "+--------------------+----------+--------------------+--------------------+\n",
      "only showing top 20 rows\n",
      "\n"
     ]
    }
   ],
   "source": [
    "# Standardize the features\n",
    "scaler = StandardScaler(\n",
    "    inputCol = 'Features', \n",
    "    outputCol = 'scaledFeatures',\n",
    "    withMean = True,\n",
    "    withStd = True\n",
    ")\n",
    "\n",
    "model_sc = scaler.fit(image_feat)\n",
    "image_feat_sc = model_sc.transform(image_feat)\n",
    "image_feat_sc.show(20)"
   ]
  },
  {
   "cell_type": "code",
   "execution_count": 20,
   "id": "f6222800",
   "metadata": {},
   "outputs": [
    {
     "name": "stdout",
     "output_type": "stream",
     "text": [
      "Explained Variance Ratio [0.284246   0.14900259 0.07884502 0.06986261]\n",
      "+--------------------+----------+--------------------+--------------------+--------------------+\n",
      "|                Path|  Category|            Features|      scaledFeatures|        pca_features|\n",
      "+--------------------+----------+--------------------+--------------------+--------------------+\n",
      "|s3a://ocp8fruits/...|   Apricot|[0.0,0.0,6.069554...|[-0.6337590830754...|[11.0220949304773...|\n",
      "|s3a://ocp8fruits/...|   Apricot|[0.0,0.0,0.0,17.5...|[-0.6337590830754...|[12.9261955260719...|\n",
      "|s3a://ocp8fruits/...|   Apricot|[0.0,0.0,0.0,20.0...|[-0.6337590830754...|[12.7771296431940...|\n",
      "|s3a://ocp8fruits/...|   Apricot|[0.0,4.8060884475...|[-0.6337590830754...|[11.8079073072919...|\n",
      "|s3a://ocp8fruits/...|   Apricot|[0.0,0.0,12.34049...|[-0.6337590830754...|[13.8588177677941...|\n",
      "|s3a://ocp8fruits/...|   Apricot|[0.0,0.0,8.115951...|[-0.6337590830754...|[13.1357683720682...|\n",
      "|s3a://ocp8fruits/...|   Apricot|[0.0,0.0,10.10343...|[-0.6337590830754...|[12.5562246541995...|\n",
      "|s3a://ocp8fruits/...|   Apricot|[0.0,0.0,10.57868...|[-0.6337590830754...|[14.5660721619273...|\n",
      "|s3a://ocp8fruits/...|   Apricot|[0.0,1.0488718748...|[-0.6337590830754...|[10.8743676755527...|\n",
      "|s3a://ocp8fruits/...|   Apricot|[0.0,0.0,18.35713...|[-0.6337590830754...|[13.3374047380359...|\n",
      "|s3a://ocp8fruits/...|Clementine|[0.0,0.0,0.0,0.0,...|[-0.6337590830754...|[5.63472238019841...|\n",
      "|s3a://ocp8fruits/...|Clementine|[0.0,5.5707306861...|[-0.6337590830754...|[7.53891088119386...|\n",
      "|s3a://ocp8fruits/...|Clementine|[0.0,4.7682480812...|[-0.6337590830754...|[7.95808323653818...|\n",
      "|s3a://ocp8fruits/...|Clementine|[0.0,5.8232831954...|[-0.6337590830754...|[7.81566046588761...|\n",
      "|s3a://ocp8fruits/...|Clementine|[0.0,8.3801469802...|[-0.6337590830754...|[7.85619508581292...|\n",
      "|s3a://ocp8fruits/...|Clementine|[0.0,3.9402778148...|[-0.6337590830754...|[8.13110427118984...|\n",
      "|s3a://ocp8fruits/...|Clementine|[0.0,5.3041801452...|[-0.6337590830754...|[7.50637304045997...|\n",
      "|s3a://ocp8fruits/...|Clementine|[0.0,8.0109853744...|[-0.6337590830754...|[9.15789056516727...|\n",
      "|s3a://ocp8fruits/...|    Lychee|[29.2633228302001...|[2.22630862718177...|[-26.531206329069...|\n",
      "|s3a://ocp8fruits/...|    Lychee|[23.0468444824218...|[1.61873753564308...|[-25.665318649389...|\n",
      "+--------------------+----------+--------------------+--------------------+--------------------+\n",
      "only showing top 20 rows\n",
      "\n"
     ]
    }
   ],
   "source": [
    "# PCA with n = 4\n",
    "pca = PCA(k = 4,\n",
    "          inputCol = \"scaledFeatures\",\n",
    "          outputCol = \"pca_features\")\n",
    "# Fit & transform the model on the extracted features\n",
    "model_pca = pca.fit(image_feat_sc)\n",
    "image_feat_pca = model_pca.transform(image_feat_sc)\n",
    "print('Explained Variance Ratio', model_pca.explainedVariance.toArray())\n",
    "image_feat_pca.show(20)"
   ]
  },
  {
   "cell_type": "code",
   "execution_count": null,
   "id": "8c61acae",
   "metadata": {},
   "outputs": [],
   "source": [
    "df_final = image_feat_pca.drop(['Path', 'Features', 'scaledFeatures'])"
   ]
  },
  {
   "cell_type": "code",
   "execution_count": 24,
   "id": "68d17581",
   "metadata": {},
   "outputs": [],
   "source": [
    "df_final.write.mode('overwrite').parquet(path + \"pca//df_final.parquet\")"
   ]
  },
  {
   "cell_type": "code",
   "execution_count": 12,
   "id": "e6fe11c2",
   "metadata": {},
   "outputs": [
    {
     "name": "stdout",
     "output_type": "stream",
     "text": [
      "+----------+--------------------+\n",
      "|  Category|        pca_features|\n",
      "+----------+--------------------+\n",
      "|   Apricot|[-11.234705833537...|\n",
      "|   Apricot|[-14.359796692309...|\n",
      "|   Apricot|[-14.272371504297...|\n",
      "|   Apricot|[-11.179062976268...|\n",
      "|   Apricot|[-13.359659179762...|\n",
      "|   Apricot|[-12.022343380215...|\n",
      "|   Apricot|[-10.277471926676...|\n",
      "|   Apricot|[-14.019620913256...|\n",
      "|   Apricot|[-10.915508792194...|\n",
      "|   Apricot|[-14.398429453119...|\n",
      "|Clementine|[-8.9714173901458...|\n",
      "|Clementine|[-8.6192872367839...|\n",
      "|Clementine|[-9.9996490190683...|\n",
      "|Clementine|[-8.2325440375028...|\n",
      "|Clementine|[-8.6972548638117...|\n",
      "|Clementine|[-8.6461413882152...|\n",
      "|Clementine|[-9.0464636109169...|\n",
      "|Clementine|[-10.212175125150...|\n",
      "|    Lychee|[28.2389351506612...|\n",
      "|    Lychee|[26.9606819525806...|\n",
      "+----------+--------------------+\n",
      "only showing top 20 rows\n",
      "\n"
     ]
    }
   ],
   "source": [
    "df = spark.read.parquet(path + 'pca//df_final.parquet')\n",
    "df.show()"
   ]
  },
  {
   "cell_type": "code",
   "execution_count": null,
   "id": "5e8bebc3",
   "metadata": {},
   "outputs": [],
   "source": []
  }
 ],
 "metadata": {
  "kernelspec": {
   "display_name": "Python 3 (ipykernel)",
   "language": "python",
   "name": "python3"
  },
  "language_info": {
   "codemirror_mode": {
    "name": "ipython",
    "version": 3
   },
   "file_extension": ".py",
   "mimetype": "text/x-python",
   "name": "python",
   "nbconvert_exporter": "python",
   "pygments_lexer": "ipython3",
   "version": "3.9.13"
  }
 },
 "nbformat": 4,
 "nbformat_minor": 5
}
